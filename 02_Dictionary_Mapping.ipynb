{
 "cells": [
  {
   "cell_type": "code",
   "execution_count": 14,
   "id": "0e7e7eec",
   "metadata": {},
   "outputs": [
    {
     "name": "stdout",
     "output_type": "stream",
     "text": [
      "     Task  Priority\n",
      "0  Task_1         1\n",
      "1  Task_2         1\n",
      "2  Task_3         3\n",
      "3  Task_4         3\n",
      "4  Task_5         2\n",
      "5  Task_6         1\n"
     ]
    }
   ],
   "source": [
    "import pandas as pd\n",
    " \n",
    "# initialize list of lists\n",
    "data = [['Task_1', 1], ['Task_2', 1], ['Task_3', 3],  ['Task_4', 3], ['Task_5', 2], ['Task_6', 1]]\n",
    " \n",
    "# Create the pandas DataFrame\n",
    "df = pd.DataFrame(data, columns=['Task', 'Priority'])\n",
    " \n",
    "# print dataframe.\n",
    "print(df)"
   ]
  },
  {
   "cell_type": "code",
   "execution_count": null,
   "id": "3bcf59a2",
   "metadata": {},
   "outputs": [],
   "source": [
    "Order_Priority\n",
    "\n",
    "1 --> Low\n",
    "2 --> Medium\n",
    "3 --> High"
   ]
  },
  {
   "cell_type": "code",
   "execution_count": 18,
   "id": "731422e7",
   "metadata": {},
   "outputs": [],
   "source": [
    "dictinary = {1:'Low', 2:'Medium', 3:'High'}\n",
    "\n",
    "# df['Order_Priority'] = df.Priority.map(di)\n",
    "df['Priority'] = df['Priority'].map(di)"
   ]
  },
  {
   "cell_type": "code",
   "execution_count": 19,
   "id": "2a7451ef",
   "metadata": {},
   "outputs": [
    {
     "data": {
      "text/html": [
       "<div>\n",
       "<style scoped>\n",
       "    .dataframe tbody tr th:only-of-type {\n",
       "        vertical-align: middle;\n",
       "    }\n",
       "\n",
       "    .dataframe tbody tr th {\n",
       "        vertical-align: top;\n",
       "    }\n",
       "\n",
       "    .dataframe thead th {\n",
       "        text-align: right;\n",
       "    }\n",
       "</style>\n",
       "<table border=\"1\" class=\"dataframe\">\n",
       "  <thead>\n",
       "    <tr style=\"text-align: right;\">\n",
       "      <th></th>\n",
       "      <th>Task</th>\n",
       "      <th>Priority</th>\n",
       "    </tr>\n",
       "  </thead>\n",
       "  <tbody>\n",
       "    <tr>\n",
       "      <th>0</th>\n",
       "      <td>Task_1</td>\n",
       "      <td>NaN</td>\n",
       "    </tr>\n",
       "    <tr>\n",
       "      <th>1</th>\n",
       "      <td>Task_2</td>\n",
       "      <td>NaN</td>\n",
       "    </tr>\n",
       "    <tr>\n",
       "      <th>2</th>\n",
       "      <td>Task_3</td>\n",
       "      <td>NaN</td>\n",
       "    </tr>\n",
       "    <tr>\n",
       "      <th>3</th>\n",
       "      <td>Task_4</td>\n",
       "      <td>NaN</td>\n",
       "    </tr>\n",
       "    <tr>\n",
       "      <th>4</th>\n",
       "      <td>Task_5</td>\n",
       "      <td>NaN</td>\n",
       "    </tr>\n",
       "    <tr>\n",
       "      <th>5</th>\n",
       "      <td>Task_6</td>\n",
       "      <td>NaN</td>\n",
       "    </tr>\n",
       "  </tbody>\n",
       "</table>\n",
       "</div>"
      ],
      "text/plain": [
       "     Task Priority\n",
       "0  Task_1      NaN\n",
       "1  Task_2      NaN\n",
       "2  Task_3      NaN\n",
       "3  Task_4      NaN\n",
       "4  Task_5      NaN\n",
       "5  Task_6      NaN"
      ]
     },
     "execution_count": 19,
     "metadata": {},
     "output_type": "execute_result"
    }
   ],
   "source": [
    "df"
   ]
  }
 ],
 "metadata": {
  "kernelspec": {
   "display_name": "Python 3 (ipykernel)",
   "language": "python",
   "name": "python3"
  },
  "language_info": {
   "codemirror_mode": {
    "name": "ipython",
    "version": 3
   },
   "file_extension": ".py",
   "mimetype": "text/x-python",
   "name": "python",
   "nbconvert_exporter": "python",
   "pygments_lexer": "ipython3",
   "version": "3.7.5"
  }
 },
 "nbformat": 4,
 "nbformat_minor": 5
}
