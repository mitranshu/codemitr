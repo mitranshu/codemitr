{
 "cells": [
  {
   "cell_type": "code",
   "execution_count": 1,
   "id": "b8837db5-572f-47e5-9c14-8e373449d685",
   "metadata": {},
   "outputs": [],
   "source": [
    "from datetime import datetime\n",
    "from airflow.operators.bash import BashOperator\n",
    "from airflow import DAG"
   ]
  },
  {
   "cell_type": "code",
   "execution_count": 2,
   "id": "de0cbe40-62da-4ad3-8147-3c1542e9d486",
   "metadata": {},
   "outputs": [],
   "source": [
    "default_args = {\n",
    "    'owner':'Mitranshu',\n",
    "    'depends_on_past':False,\n",
    "    'email_on_failure':False,\n",
    "    'email_on_retry':False,\n",
    "    'retries':0,\n",
    "    'catchup':False,\n",
    "    'start_date':datetime(2023,1,1)\n",
    "}"
   ]
  },
  {
   "cell_type": "code",
   "execution_count": null,
   "id": "fc706ee5-c4bc-4a0b-8bbd-9e5e94577f79",
   "metadata": {},
   "outputs": [],
   "source": [
    "with DAG(\n",
    "    dag_id = 'two_task_dag',\n",
    "    description='A two task Airflow DAG',\n",
    "    schedule_interval=None,\n",
    "    default_args=default_args,\n",
    ") as dag:\n",
    "    t0 = BashOperator(\n",
    "        task_id = 'bash_task_0',\n",
    "        bash_command='echo \"First Airflow task!\"'\n",
    "    )\n",
    "\n",
    "    t1 = BashOperator(\n",
    "        task_id = 'bash_task_1',\n",
    "        bash_command='echo \"Sleeping... \" && sleep 5s && echo \"Second Airflow taks!\"'\n",
    "    )"
   ]
  }
 ],
 "metadata": {
  "kernelspec": {
   "display_name": "Python 3 (ipykernel)",
   "language": "python",
   "name": "python3"
  },
  "language_info": {
   "codemirror_mode": {
    "name": "ipython",
    "version": 3
   },
   "file_extension": ".py",
   "mimetype": "text/x-python",
   "name": "python",
   "nbconvert_exporter": "python",
   "pygments_lexer": "ipython3",
   "version": "3.10.0"
  }
 },
 "nbformat": 4,
 "nbformat_minor": 5
}
