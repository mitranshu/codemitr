{
 "cells": [
  {
   "cell_type": "code",
   "execution_count": 1,
   "id": "83188cde-0d51-4a9e-b987-ea0fbee986bc",
   "metadata": {},
   "outputs": [],
   "source": [
    "from datetime import datetime, timedelta"
   ]
  },
  {
   "cell_type": "code",
   "execution_count": 2,
   "id": "c04f14dc-a8c7-4e76-82c7-67c299441775",
   "metadata": {},
   "outputs": [],
   "source": [
    "from airflow.utils.dates import days_ago"
   ]
  },
  {
   "cell_type": "code",
   "execution_count": 3,
   "id": "d68355c4-12df-4fe2-a949-52acb6e12fda",
   "metadata": {},
   "outputs": [],
   "source": [
    "from airflow import DAG"
   ]
  },
  {
   "cell_type": "code",
   "execution_count": 4,
   "id": "8989a9b2-6c92-4283-b8fd-1c5fea9a3513",
   "metadata": {},
   "outputs": [],
   "source": [
    "from airflow.operators.bash import BashOperator"
   ]
  },
  {
   "cell_type": "code",
   "execution_count": 5,
   "id": "5a75dedd-e8b0-4e9c-bca9-e75c387aa3b4",
   "metadata": {},
   "outputs": [],
   "source": [
    "default_args = {\n",
    "    'owner':'mitranshu',\n",
    "}"
   ]
  },
  {
   "cell_type": "code",
   "execution_count": 7,
   "id": "fed246d8-cd2a-4670-a09d-ddcf6ae9f9a8",
   "metadata": {},
   "outputs": [
    {
     "name": "stderr",
     "output_type": "stream",
     "text": [
      "C:\\Users\\mitra\\AppData\\Local\\Temp\\ipykernel_19064\\1790267680.py:4: RemovedInAirflow3Warning: Function `days_ago` is deprecated and will be removed in Airflow 3.0. You can achieve equivalent behavior with `pendulum.today('UTC').add(days=-N, ...)`\n",
      "  start_date = days_ago(1),\n",
      "C:\\Users\\mitra\\AppData\\Local\\Temp\\ipykernel_19064\\1790267680.py:1: RemovedInAirflow3Warning: Param `schedule_interval` is deprecated and will be removed in a future release. Please use `schedule` instead. \n",
      "  dag = DAG(\n"
     ]
    }
   ],
   "source": [
    "dag = DAG(\n",
    "    dag_id = 'hello_world',\n",
    "    description= 'Our first \"Hello World\" DAG!',\n",
    "    start_date = days_ago(1),\n",
    "    schedule_interval = None\n",
    ")"
   ]
  },
  {
   "cell_type": "code",
   "execution_count": 8,
   "id": "8ea90af0-172a-48a2-af11-9643b6756791",
   "metadata": {},
   "outputs": [],
   "source": [
    "task = BashOperator(\n",
    "    task_id = 'hello_world_task',\n",
    "    bash_command = 'echo Hello World!',\n",
    "    dag = dag\n",
    ")"
   ]
  },
  {
   "cell_type": "code",
   "execution_count": 9,
   "id": "79fc743b-af02-4495-944e-b44f46715bd8",
   "metadata": {},
   "outputs": [
    {
     "data": {
      "text/plain": [
       "<Task(BashOperator): hello_world_task>"
      ]
     },
     "execution_count": 9,
     "metadata": {},
     "output_type": "execute_result"
    }
   ],
   "source": [
    "task"
   ]
  }
 ],
 "metadata": {
  "kernelspec": {
   "display_name": "Python 3 (ipykernel)",
   "language": "python",
   "name": "python3"
  },
  "language_info": {
   "codemirror_mode": {
    "name": "ipython",
    "version": 3
   },
   "file_extension": ".py",
   "mimetype": "text/x-python",
   "name": "python",
   "nbconvert_exporter": "python",
   "pygments_lexer": "ipython3",
   "version": "3.10.0"
  }
 },
 "nbformat": 4,
 "nbformat_minor": 5
}
